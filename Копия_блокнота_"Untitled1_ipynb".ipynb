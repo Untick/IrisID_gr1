{
  "nbformat": 4,
  "nbformat_minor": 0,
  "metadata": {
    "colab": {
      "provenance": [],
      "gpuType": "T4",
      "authorship_tag": "ABX9TyMLnuPEJru3nAQW9bFvmJbK",
      "include_colab_link": true
    },
    "kernelspec": {
      "name": "python3",
      "display_name": "Python 3"
    },
    "language_info": {
      "name": "python"
    },
    "accelerator": "GPU"
  },
  "cells": [
    {
      "cell_type": "markdown",
      "metadata": {
        "id": "view-in-github",
        "colab_type": "text"
      },
      "source": [
        "<a href=\"https://colab.research.google.com/github/Untick/IrisID_gr1/blob/Anna-Belyamova-foloder/%D0%9A%D0%BE%D0%BF%D0%B8%D1%8F_%D0%B1%D0%BB%D0%BE%D0%BA%D0%BD%D0%BE%D1%82%D0%B0_%22Untitled1_ipynb%22.ipynb\" target=\"_parent\"><img src=\"https://colab.research.google.com/assets/colab-badge.svg\" alt=\"Open In Colab\"/></a>"
      ]
    },
    {
      "cell_type": "code",
      "execution_count": null,
      "metadata": {
        "id": "XdufyWhEKLZF"
      },
      "outputs": [],
      "source": [
        "\n",
        "\n",
        "# Работа с массивами\n",
        "import numpy as np\n",
        "\n",
        "# Генератор аугментированных изображений\n",
        "from tensorflow.keras.preprocessing.image import ImageDataGenerator\n",
        "\n",
        "# Основа для создания последовательной модели\n",
        "from tensorflow.keras.models import Sequential\n",
        "\n",
        "# Основные слои\n",
        "from tensorflow.keras.layers import Dense, Conv2D, MaxPooling2D, Flatten, Dropout, BatchNormalization\n",
        "\n",
        "# Оптимизатор\n",
        "from tensorflow.keras.optimizers import Adam\n",
        "\n",
        "from tensorflow.data import Dataset\n",
        "\n",
        "# Матрица ошибок классификатора\n",
        "from sklearn.metrics import confusion_matrix, ConfusionMatrixDisplay\n",
        "\n",
        "# Подключение модуля для загрузки данных из облака\n",
        "import gdown\n",
        "\n",
        "# Инструменты для работы с файлами\n",
        "import os\n",
        "\n",
        "# Отрисовка графиков\n",
        "import matplotlib.pyplot as plt\n",
        "\n",
        "# Сегментация картинок\n",
        "import cv2\n",
        "\n",
        "\n",
        "\n",
        "# Рисование графиков в ячейках Colab\n",
        "%matplotlib inline\n",
        "\n"
      ]
    },
    {
      "cell_type": "code",
      "source": [
        "# Задание гиперпараметров\n",
        "\n",
        "TRAIN_PATH          = '/content/iris'       # Папка для обучающего набора данных\n",
        "TEST_PATH           = '/content/iris_test'  # Папка для тестового набора данных\n",
        "TRAIN_AUG_PATH      = '/content/iris_aug'   # Папка для аугментированного обучающего набора данных\n",
        "\n",
        "TEST_SPLIT          = 0.2                   # Доля тестовых данных в общем наборе\n",
        "VAL_SPLIT           = 0.2                   # Доля проверочной выборки в обучающем наборе\n",
        "\n",
        "IMG_WIDTH           = 192                   # Ширина изображения для нейросети\n",
        "IMG_HEIGHT          = 144                   # Высота изображения для нейросети\n",
        "IMG_CHANNELS        = 3                     # Количество каналов (для RGB равно 3, для Grey равно 1)\n",
        "\n",
        "# Параметры аугментации\n",
        "ROTATION_RANGE      = 8                     # Пределы поворота\n",
        "WIDTH_SHIFT_RANGE   = 0.15                  # Пределы сдвига по горизонтали\n",
        "HEIGHT_SHIFT_RANGE  = 0.15                  # Пределы сдвига по вертикали\n",
        "ZOOM_RANGE          = 0.15                  # Пределы увеличения/уменьшения\n",
        "BRIGHTNESS_RANGE    = (0.7, 1.3)            # Пределы изменения яркости\n",
        "HORIZONTAL_FLIP     = False                 # Горизонтальное отражение разрешено\n",
        "\n",
        "EPOCHS              = 250                   # Число эпох обучения\n",
        "BATCH_SIZE          = 8                     # Размер батча для обучения модели\n",
        "OPTIMIZER           = Adam(0.0001)          # Оптимизатор\n",
        "\n"
      ],
      "metadata": {
        "id": "Th7919utKzaP"
      },
      "execution_count": null,
      "outputs": []
    },
    {
      "cell_type": "code",
      "source": [
        "# Загрузка zip-архива с датасетом из облака на диск виртуальной машины colab (64 класса)\n",
        "# gdown.download('https://cloud.mail.ru/home/Iris/Iris_ID', None, quiet=True)\n"
      ],
      "metadata": {
        "id": "tauP_qpGN3MW"
      },
      "execution_count": null,
      "outputs": []
    },
    {
      "cell_type": "code",
      "source": [
        "Out[ ]:\n",
        "'Iris.zip'\n"
      ],
      "metadata": {
        "id": "hurRvEhYN83Y"
      },
      "execution_count": null,
      "outputs": []
    },
    {
      "cell_type": "code",
      "source": [
        "# Очистка данных от прошлого запуска (если есть)\n",
        "!rm -rf {TRAIN_PATH} {TEST_PATH}\n"
      ],
      "metadata": {
        "id": "CbrMiHGMN-nO"
      },
      "execution_count": null,
      "outputs": []
    },
    {
      "cell_type": "code",
      "source": [
        "# Разархивация датасета в директорию данных\n",
        "!unzip /content/drive/MyDrive/path/to/iris.zip -d /content/\n",
        "\n"
      ],
      "metadata": {
        "id": "jxQKllOjOB_E"
      },
      "execution_count": null,
      "outputs": []
    },
    {
      "cell_type": "markdown",
      "source": [
        "# Новый раздел"
      ],
      "metadata": {
        "id": "H_V_Z7F1MysE"
      }
    },
    {
      "cell_type": "code",
      "source": [
        "# Определение списка имен классов\n",
        "CLASS_LIST = sorted(os.listdir(TRAIN_PATH))\n",
        "\n",
        "# Определение количества классов\n",
        "CLASS_COUNT = len(CLASS_LIST)\n",
        "\n",
        "# Проверка результата\n",
        "print(f'Количество классов: {CLASS_COUNT}, метки классов: {CLASS_LIST}')\n"
      ],
      "metadata": {
        "id": "ZW2cSILbPAkm"
      },
      "execution_count": null,
      "outputs": []
    },
    {
      "cell_type": "code",
      "source": [
        "# Перенос файлов для теста в отдельное дерево папок, расчет размеров наборов данных\n",
        "\n",
        "os.mkdir(TEST_PATH)                                        # Создание папки для тестовых данных\n",
        "train_count = 0\n",
        "test_count = 0\n",
        "\n",
        "for class_name in CLASS_LIST:                              # Для всех классов по порядку номеров (их меток)\n",
        "    class_path = f'{TRAIN_PATH}/{class_name}'              # Формирование полного пути к папке с изображениями класса\n",
        "    test_path = f'{TEST_PATH}/{class_name}'                # Полный путь для тестовых данных класса\n",
        "    class_files = os.listdir(class_path)                   # Получение списка имен файлов с изображениями текущего класса\n",
        "    class_file_count = len(class_files)                    # Получение общего числа файлов класса\n",
        "    os.mkdir(test_path)                                    # Создание подпапки класса для тестовых данных\n",
        "    test_file_count = int(class_file_count * TEST_SPLIT)   # Определение числа тестовых файлов для класса\n",
        "    test_files = class_files[-test_file_count:]            # Выделение файлов для теста от конца списка\n",
        "    for f in test_files:                                   # Перемещение тестовых файлов в папку для теста\n",
        "        os.rename(f'{class_path}/{f}', f'{test_path}/{f}')\n",
        "    train_count += class_file_count                        # Увеличение общего счетчика файлов обучающего набора\n",
        "    test_count += test_file_count                          # Увеличение общего счетчика файлов тестового набора\n",
        "\n",
        "    print(f'Размер класса {class_name}: {class_file_count} фото, для теста выделено файлов: {test_file_count}')\n",
        "\n",
        "print(f'Общий размер базы: {train_count}, выделено для обучения: {train_count - test_count}, для теста: {test_count}')\n",
        "\n"
      ],
      "metadata": {
        "id": "r58cLcMwPM1m"
      },
      "execution_count": null,
      "outputs": []
    },
    {
      "cell_type": "code",
      "source": [
        "# Генераторы изображений\n",
        "\n",
        "# Изображения для обучающего набора нормализуются и аугментируются согласно заданным гиперпараметрам\n",
        "# Далее набор будет разделен на обучающую и проверочную выборку в соотношении VAL_SPLIT\n",
        "train_datagen = ImageDataGenerator(\n",
        "                    rescale=1. / 255.,\n",
        "                    rotation_range=ROTATION_RANGE,\n",
        "                    #width_shift_range=WIDTH_SHIFT_RANGE,\n",
        "                    #height_shift_range=HEIGHT_SHIFT_RANGE,\n",
        "                    #zoom_range=ZOOM_RANGE,\n",
        "                    brightness_range=BRIGHTNESS_RANGE,\n",
        "                    #horizontal_flip=HORIZONTAL_FLIP,\n",
        "                    validation_split=VAL_SPLIT,\n",
        "                    preprocessing_function = get_iris\n",
        "                )\n",
        "\n",
        "# Изображения для тестового набора только нормализуются\n",
        "test_datagen = ImageDataGenerator(\n",
        "                   rescale=1. / 255.,\n",
        "                   preprocessing_function = get_iris\n",
        "                )\n"
      ],
      "metadata": {
        "id": "CgOxLmRyPSsW"
      },
      "execution_count": null,
      "outputs": []
    },
    {
      "cell_type": "code",
      "source": [
        "\n",
        "# Обучающая выборка генерируется из папки обучающего набора\n",
        "train_generator = train_datagen.flow_from_directory(\n",
        "    # Путь к обучающим изображениям\n",
        "    TRAIN_PATH,\n",
        "    # Параметры требуемого размера изображения\n",
        "    target_size=(IMG_HEIGHT, IMG_WIDTH),\n",
        "    # Размер батча\n",
        "    batch_size=BATCH_SIZE,\n",
        "    class_mode='categorical',\n",
        "    shuffle=True,\n",
        "    # Указание сгенерировать обучающую выборку\n",
        "    subset='training'\n",
        ")\n"
      ],
      "metadata": {
        "id": "06EHK22KPcxX"
      },
      "execution_count": null,
      "outputs": []
    },
    {
      "cell_type": "code",
      "source": [
        "# Проверочная выборка также генерируется из папки обучающего набора\n",
        "validation_generator = train_datagen.flow_from_directory(\n",
        "    TRAIN_PATH,\n",
        "    target_size=(IMG_HEIGHT, IMG_WIDTH),\n",
        "    batch_size=BATCH_SIZE,\n",
        "    class_mode='categorical',\n",
        "    shuffle=True,\n",
        "    # Указание сгенерировать проверочную выборку\n",
        "    subset='validation'\n",
        ")\n"
      ],
      "metadata": {
        "id": "uJ6D-Wb7PkuV"
      },
      "execution_count": null,
      "outputs": []
    },
    {
      "cell_type": "code",
      "source": [
        "# Тестовая выборка генерируется из папки тестового набора\n",
        "test_generator = test_datagen.flow_from_directory(\n",
        "    TEST_PATH,\n",
        "    target_size=(IMG_HEIGHT, IMG_WIDTH),\n",
        "    batch_size=test_count,\n",
        "    class_mode='categorical',\n",
        "    shuffle=True,\n",
        ")\n"
      ],
      "metadata": {
        "id": "mFsAXFi9PvJO"
      },
      "execution_count": null,
      "outputs": []
    },
    {
      "cell_type": "code",
      "source": [
        "# Проверка формы данных\n",
        "print(f'Формы данных тренировочной выборки: {train_generator[0][0].shape}, {train_generator[0][1].shape}, батчей: {len(train_generator)}')\n",
        "print(f'Формы данных   проверочной выборки: {validation_generator[0][0].shape}, {validation_generator[0][1].shape}, батчей: {len(validation_generator)}')\n",
        "print(f'Формы данных      тестовой выборки: {test_generator[0][0].shape}, {test_generator[0][1].shape}, батчей: {len(test_generator)}')\n",
        "\n",
        "print()\n",
        "\n",
        "# Проверка назначения меток классов\n",
        "print(f'Метки классов тренировочной выборки: {train_generator.class_indices}')\n",
        "print(f'Метки классов   проверочной выборки: {validation_generator.class_indices}')\n",
        "print(f'Метки классов      тестовой выборки: {test_generator.class_indices}')\n",
        "\n"
      ],
      "metadata": {
        "id": "DdrB0RUfP0Mt"
      },
      "execution_count": null,
      "outputs": []
    },
    {
      "cell_type": "code",
      "source": [
        "# Функция рисования образцов изображений из заданной выборки\n",
        "\n",
        "def show_batch(batch,                # батч с примерами\n",
        "               img_range=range(20),  # диапазон номеров картинок\n",
        "               figsize=(25, 8),      # размер полотна для рисования одной строки таблицы\n",
        "               columns=5             # число колонок в таблице\n",
        "               ):\n",
        "\n",
        "    for i in img_range:\n",
        "        ix = i % columns\n",
        "        if ix == 0:\n",
        "            fig, ax = plt.subplots(1, columns, figsize=figsize)\n",
        "        class_label = np.argmax(batch[1][i])\n",
        "        ax[ix].set_title(CLASS_LIST[class_label])\n",
        "        ax[ix].imshow(batch[0][i])\n",
        "        ax[ix].axis('off')\n",
        "        plt.tight_layout()\n",
        "\n",
        "    plt.show()\n",
        "\n"
      ],
      "metadata": {
        "id": "HJZASiIwQrHb"
      },
      "execution_count": null,
      "outputs": []
    },
    {
      "cell_type": "code",
      "source": [
        "# Вывод примеров из 0-го батча train_generator\n",
        "show_batch(train_generator[0], range(8), columns = 4)\n"
      ],
      "metadata": {
        "id": "zHhSIOM7QwAb"
      },
      "execution_count": null,
      "outputs": []
    },
    {
      "cell_type": "code",
      "source": [
        "# Функция создания модели\n",
        "def create_model(class_count=CLASS_COUNT):\n",
        "  # Создание последовательной модели\n",
        "  model_conv = Sequential()\n",
        "\n",
        "  # Первый сверточный слой\n",
        "  model_conv.add(Conv2D(256, (3, 3), padding='same', activation='relu', input_shape=(IMG_HEIGHT, IMG_WIDTH, IMG_CHANNELS)))\n",
        "  model_conv.add(BatchNormalization())\n",
        "\n",
        "  # Второй сверточный слой\n",
        "  model_conv.add(Conv2D(256, (3, 3), padding='same', activation='relu'))\n",
        "  model_conv.add(MaxPooling2D(pool_size=(3, 3)))\n",
        "\n",
        "  # Третий сверточный слой\n",
        "  model_conv.add(Conv2D(256, (3, 3), padding='same', activation='relu'))\n",
        "  model_conv.add(BatchNormalization())\n",
        "  model_conv.add(Dropout(0.2))\n",
        "\n",
        "  # Четвертый сверточный слой\n",
        "  model_conv.add(Conv2D(256, (3, 3), padding='same', activation='relu'))\n",
        "  model_conv.add(MaxPooling2D(pool_size=(3, 3)))\n",
        "  model_conv.add(Dropout(0.2))\n",
        "\n",
        "  # Пятый сверточный слой\n",
        "  model_conv.add(Conv2D(512, (3, 3), padding='same', activation='relu'))\n",
        "  model_conv.add(BatchNormalization())\n",
        "\n",
        "  # Шестой сверточный слой\n",
        "  model_conv.add(Conv2D(1024, (3, 3), padding='same', activation='relu'))\n",
        "  model_conv.add(MaxPooling2D(pool_size=(3, 3)))\n",
        "  model_conv.add(Dropout(0.2))\n",
        "\n",
        "  # Слой преобразования многомерных данных в одномерные\n",
        "  model_conv.add(Flatten())\n",
        "\n",
        "  # Промежуточный полносвязный слой\n",
        "  model_conv.add(Dense(2048, activation='relu'))\n",
        "\n",
        "  # Промежуточный полносвязный слой\n",
        "  model_conv.add(Dense(4096, activation='relu'))\n",
        "\n",
        "  # Выходной полносвязный слой с количеством нейронов по количеству классов\n",
        "  model_conv.add(Dense(class_count, activation='softmax'))\n",
        "\n",
        "  return model_conv\n",
        "\n"
      ],
      "metadata": {
        "id": "iny0siW6Q45G"
      },
      "execution_count": null,
      "outputs": []
    },
    {
      "cell_type": "code",
      "source": [
        "# Функция компиляции и обучения модели нейронной сети\n",
        "# По окончанию выводит графики обучения\n",
        "\n",
        "def compile_train_model(model,                  # модель нейронной сети\n",
        "                        train_data,             # обучающие данные\n",
        "                        val_data,               # проверочные данные\n",
        "                        optimizer=OPTIMIZER,    # оптимизатор\n",
        "                        epochs=EPOCHS,          # количество эпох обучения\n",
        "                        batch_size=BATCH_SIZE,  # размер батча\n",
        "                        figsize=(20, 5)):       # размер полотна для графиков\n",
        "\n",
        "    # Компиляция модели\n",
        "    model.compile(optimizer=optimizer,\n",
        "                  loss='categorical_crossentropy',\n",
        "                  metrics=['accuracy'])\n",
        "\n",
        "    # Вывод сводки\n",
        "    model.summary()\n",
        "\n",
        "    # Обучение модели с заданными параметрами\n",
        "    history = model.fit(train_data,\n",
        "                        epochs=epochs,\n",
        "                        batch_size=batch_size,\n",
        "                        validation_data=val_data)\n",
        "\n",
        "    # Вывод графиков точности и ошибки\n",
        "    fig, (ax1, ax2) = plt.subplots(1, 2, figsize=figsize)\n",
        "    fig.suptitle('График процесса обучения модели')\n",
        "    ax1.plot(history.history['accuracy'],\n",
        "               label='Доля верных ответов на обучающем наборе')\n",
        "    ax1.plot(history.history['val_accuracy'],\n",
        "               label='Доля верных ответов на проверочном наборе')\n",
        "    ax1.xaxis.get_major_locator().set_params(integer=True)\n",
        "    ax1.set_xlabel('Эпоха обучения')\n",
        "    ax1.set_ylabel('Доля верных ответов')\n",
        "    ax1.legend()\n",
        "\n",
        "    ax2.plot(history.history['loss'],\n",
        "               label='Ошибка на обучающем наборе')\n",
        "    ax2.plot(history.history['val_loss'],\n",
        "               label='Ошибка на проверочном наборе')\n",
        "    ax2.xaxis.get_major_locator().set_params(integer=True)\n",
        "    ax2.set_xlabel('Эпоха обучения')\n",
        "    ax2.set_ylabel('Ошибка')\n",
        "    ax2.legend()\n",
        "    plt.show()\n",
        "\n"
      ],
      "metadata": {
        "id": "NQbJ1_e3Rdai"
      },
      "execution_count": null,
      "outputs": []
    },
    {
      "cell_type": "code",
      "source": [
        "# Функция вывода результатов оценки модели на заданных данных\n",
        "\n",
        "def eval_model(model,\n",
        "               x,                # данные для предсказания модели (вход)\n",
        "               y_true,           # верные метки классов в формате OHE (выход)\n",
        "               class_labels=[],  # список меток классов\n",
        "               cm_round=3,       # число знаков после запятой для матрицы ошибок\n",
        "               title='',         # название модели\n",
        "               figsize=(10, 10)  # размер полотна для матрицы ошибок\n",
        "               ):\n",
        "    # Вычисление предсказания сети\n",
        "    y_pred = model.predict(x)\n",
        "    # Построение матрицы ошибок\n",
        "    cm = confusion_matrix(np.argmax(y_true, axis=1),\n",
        "                          np.argmax(y_pred, axis=1),\n",
        "                          normalize='true')\n",
        "    # Округление значений матрицы ошибок\n",
        "    cm = np.around(cm, cm_round)\n",
        "\n",
        "    # Отрисовка матрицы ошибок\n",
        "    fig, ax = plt.subplots(figsize=figsize)\n",
        "    ax.set_title(f'Нейросеть {title}: матрица ошибок нормализованная', fontsize=18)\n",
        "    disp = ConfusionMatrixDisplay(confusion_matrix=cm, display_labels=class_labels)\n",
        "    disp.plot(ax=ax)\n",
        "    ax.images[-1].colorbar.remove()       # Стирание ненужной цветовой шкалы\n",
        "    fig.autofmt_xdate(rotation=45)        # Наклон меток горизонтальной оси\n",
        "    plt.xlabel('Предсказанные классы', fontsize=16)\n",
        "    plt.ylabel('Верные классы', fontsize=16)\n",
        "    plt.show()\n",
        "\n",
        "    print('-'*100)\n",
        "    print(f'Нейросеть: {title}')\n",
        "\n",
        "    # Для каждого класса:\n",
        "    for cls in range(len(class_labels)):\n",
        "        # Определяется индекс класса с максимальным значением предсказания (уверенности)\n",
        "        cls_pred = np.argmax(cm[cls])\n",
        "        # Формируется сообщение о верности или неверности предсказания\n",
        "        msg = 'ВЕРНО :-)' if cls_pred == cls else 'НЕВЕРНО :-('\n",
        "        # Выводится текстовая информация о предсказанном классе и значении уверенности\n",
        "        print('Класс: {:<20} {:3.0f}% сеть отнесла к классу {:<20} - {}'.format(class_labels[cls],\n",
        "                                                                               100. * cm[cls, cls_pred],\n",
        "                                                                               class_labels[cls_pred],\n",
        "                                                                               msg))\n",
        "\n",
        "    # Средняя точность распознавания определяется как среднее диагональных элементов матрицы ошибок\n",
        "    print('\\nСредняя точность распознавания: {:3.0f}%'.format(100. * cm.diagonal().mean()))\n"
      ],
      "metadata": {
        "id": "eN4areyERfVj"
      },
      "execution_count": null,
      "outputs": []
    },
    {
      "cell_type": "code",
      "source": [
        "# Совместная функция обучения и оценки модели нейронной сети\n",
        "\n",
        "def compile_train_eval_model(model,                    # модель нейронной сети\n",
        "                             train_data,               # обучающие данные\n",
        "                             val_data,                 # проверочные данные\n",
        "                             test_data,                # тестовые данные\n",
        "                             class_labels=CLASS_LIST,  # список меток классов\n",
        "                             title='',                 # название модели\n",
        "                             optimizer=OPTIMIZER,      # оптимизатор\n",
        "                             epochs=EPOCHS,            # количество эпох обучения\n",
        "                             batch_size=BATCH_SIZE,    # размер батча\n",
        "                             graph_size=(20, 5),       # размер полотна для графиков обучения\n",
        "                             cm_size=(10, 10)          # размер полотна для матрицы ошибок\n",
        "                             ):\n",
        "\n",
        "    # Компиляция и обучение модели на заданных параметрах\n",
        "    # В качестве проверочных используются тестовые данные\n",
        "    compile_train_model(model,\n",
        "                        train_data,\n",
        "                        val_data,\n",
        "                        optimizer=optimizer,\n",
        "                        epochs=epochs,\n",
        "                        batch_size=batch_size,\n",
        "                        figsize=graph_size)\n",
        "\n",
        "    # Вывод результатов оценки работы модели на тестовых данных\n",
        "    eval_model(model, test_data[0][0], test_data[0][1],\n",
        "               class_labels=class_labels,\n",
        "               title=title,\n",
        "               figsize=cm_size)\n"
      ],
      "metadata": {
        "id": "62PVo2gsRj0x"
      },
      "execution_count": null,
      "outputs": []
    },
    {
      "cell_type": "code",
      "source": [
        "\n",
        "# model_conv = create_model()\n",
        "\n"
      ],
      "metadata": {
        "id": "98yBSDw-Romi"
      },
      "execution_count": null,
      "outputs": []
    },
    {
      "cell_type": "code",
      "source": [
        "## Обучение модели и вывод оценки ее работы на тестовых данных\n",
        "#compile_train_eval_model(model_conv,\n",
        "#                         train_generator,\n",
        "#                         validation_generator,\n",
        "#                         test_generator,\n",
        "#                         class_labels=CLASS_LIST,\n",
        "#                         title='Сверточный классификатор')\n",
        "\n"
      ],
      "metadata": {
        "id": "BT0Fqvs2RtT-"
      },
      "execution_count": null,
      "outputs": []
    }
  ]
}