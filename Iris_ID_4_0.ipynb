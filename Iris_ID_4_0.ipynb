{
  "nbformat": 4,
  "nbformat_minor": 0,
  "metadata": {
    "colab": {
      "provenance": [],
      "collapsed_sections": [
        "fiECwboyVyEb",
        "15VwRs-_V8zg",
        "lFkGsJf0Xdhh",
        "MSeH2LBcenMk",
        "9Wc5RWPUY73S"
      ],
      "authorship_tag": "ABX9TyOe2akSZdAyLZukSGHvH6fw",
      "include_colab_link": true
    },
    "kernelspec": {
      "name": "python3",
      "display_name": "Python 3"
    },
    "language_info": {
      "name": "python"
    }
  },
  "cells": [
    {
      "cell_type": "markdown",
      "metadata": {
        "id": "view-in-github",
        "colab_type": "text"
      },
      "source": [
        "<a href=\"https://colab.research.google.com/github/Untick/IrisID_gr1/blob/Daria-Petrova-folder/Iris_ID_4_0.ipynb\" target=\"_parent\"><img src=\"https://colab.research.google.com/assets/colab-badge.svg\" alt=\"Open In Colab\"/></a>"
      ]
    },
    {
      "cell_type": "markdown",
      "source": [
        "# **ТЗ**"
      ],
      "metadata": {
        "id": "fiECwboyVyEb"
      }
    },
    {
      "cell_type": "markdown",
      "source": [
        "**Задача:** идентификация пациента по радужной оболочке глаза (Iris ID).\n",
        "\n",
        "**Тип задачи:** классификация.\n",
        "Количество классов: равно удвоенному количеству пациентов (левый и\n",
        "правый глаза).\n",
        "\n",
        "**Датасет:** цветные изображения переднего сегмента глаз в формате png с\n",
        "разрешением 1920x1080. В качестве источника датасета задействованы 10\n",
        "человек. По 50 снимков на каждый глаз (всего 1000 снимков). При\n",
        "необходимости количество снимков можно будет увеличить.\n",
        "Задействованных людей можно будет использовать для тестирования\n",
        "обученной сети.\n",
        "\n",
        "**Особенности:** возможность дообучения на датасете, содержащем новые\n",
        "классы.\n",
        "\n",
        "**Точность:** FRR (ложный недопуск) ошибка не более 3%, FAR (ложный\n",
        "допуск) ошибка не более 3%, идентификация: точность не менее 97%.\n",
        "\n",
        "**Описание идентификации:**\n",
        "\n",
        "На вход системы идентификации подается изображение переднего сегмента\n",
        "правого глаза пациента. С помощью сети сегментации (разработанной на\n",
        "предыдущем этапе) извлекается область радужной оболочки и зрачка.\n",
        "Вычисляется соотношение диаметра зрачка к диаметру радужной оболочки.\n",
        "Если это соотношение более, чем 0,5 (слишком расширенный зрачок), то\n",
        "система идентификации возвращает «невозможность идентификации», т. е.\n",
        "область радужной оболочки слишком мала для возможности точной\n",
        "идентификации. Эта область подается на сеть классификации. Сеть\n",
        "классификации возвращает вероятность класса для правого глаза. Затем\n",
        "подается изображение переднего сегмента левого глаза пациента и снова\n",
        "возвращается вероятность класса. Если вероятность класса хотя бы для\n",
        "одного из двух глаз ниже 97%, то система идентификации возвращает\n",
        "«недопуск», т. е. отсутствие пациента в системе идентификации."
      ],
      "metadata": {
        "id": "-Z5VJl9EVXbG"
      }
    },
    {
      "cell_type": "markdown",
      "source": [
        "# **Описание НС**"
      ],
      "metadata": {
        "id": "15VwRs-_V8zg"
      }
    },
    {
      "cell_type": "markdown",
      "source": [
        "**Имеется:** папка IrisID на Google Drive, в которую будут загружаться датасеты для обучения нейросети в виде архивов с наименованиями пациентов."
      ],
      "metadata": {
        "id": "WQg5OqziEdCx"
      }
    },
    {
      "cell_type": "markdown",
      "source": [
        "Данная программа обновляет и обрабатывает новые файлы и папки в папке IrisID на Google Drive. Затем происходит аугментация изображений, разделение датасета на обучающую и тестовую выборки, и, при необходимости, повторная проверка наличия новых файлов и папок для последующей обработки. Этот процесс позволяет автоматически интегрировать новые данные в существующий датасет и готовить его для обучения и дообучения нейросети."
      ],
      "metadata": {
        "id": "6vaXinBg8Um_"
      }
    },
    {
      "cell_type": "markdown",
      "source": [
        "## **I. Работа с новыми датасетами.**"
      ],
      "metadata": {
        "id": "lFkGsJf0Xdhh"
      }
    },
    {
      "cell_type": "markdown",
      "source": [
        "Этот этап необходим для проверки наличия новых датасетов в исходной папке IrisID на Google Drive и добавления их в директорию Google Colab."
      ],
      "metadata": {
        "id": "pvAX4R1MXsbe"
      }
    },
    {
      "cell_type": "markdown",
      "source": [
        "**Подключение к Google Drive.**"
      ],
      "metadata": {
        "id": "iFBrYogS-ifR"
      }
    },
    {
      "cell_type": "markdown",
      "source": [
        "Программа начинает с подключения к Google Drive с помощью drive.mount('/content/drive'). После успешного подключения получаем доступ к файлам и папкам на Google Drive."
      ],
      "metadata": {
        "id": "-3p56n2_prC4"
      }
    },
    {
      "cell_type": "code",
      "source": [
        "from google.colab import drive\n",
        "drive.mount('/content/drive')"
      ],
      "metadata": {
        "id": "TjHz3qRv-nN2"
      },
      "execution_count": null,
      "outputs": []
    },
    {
      "cell_type": "markdown",
      "source": [
        "**Импортирование папки с датасетами из Google Drive в директорию Google Colab.**"
      ],
      "metadata": {
        "id": "o1iloFns-tut"
      }
    },
    {
      "cell_type": "markdown",
      "source": [
        "Затем программа импортирует папку IrisID из Google Drive в директорию Google Colab. Для этого используется shutil.copytree(drive_folder_path, colab_folder_path), где drive_folder_path - путь к папке IrisID на Google Drive, а colab_folder_path - путь к папке IrisID в директории Google Colab. С помощью os.path.exists(colab_folder_path) проверяется условие, существует ли уже папка IrisID в директории Google Colab. Если папка уже существует, выводится сообщение \"Папка IrisID уже существует в директории Google Colab\". Если папки нет, то выполняется копирование файлов из Google Drive в Google Colab.\n",
        "\n",
        "\n",
        "\n",
        "\n"
      ],
      "metadata": {
        "id": "ncwp7g8Vp0N9"
      }
    },
    {
      "cell_type": "code",
      "source": [
        "import shutil\n",
        "import os\n",
        "\n",
        "# Путь к папке на Google Drive, в которую будут загружаться новые данные\n",
        "drive_folder_path = '/content/drive/MyDrive/IrisID'\n",
        "\n",
        "# Путь к папке в директории Google Colab\n",
        "colab_folder_path = '/content/IrisID'\n",
        "\n",
        "if not os.path.exists(colab_folder_path):\n",
        "    # Копирование файлов из Google Drive в Google Colab\n",
        "    os.makedirs(colab_folder_path)\n",
        "    \n",
        "    # Копирование файлов из Google Drive в Google Colab\n",
        "for file_name in os.listdir(drive_folder_path):\n",
        "    src = os.path.join(drive_folder_path, file_name)\n",
        "    dst = os.path.join(colab_folder_path, file_name)\n",
        "    shutil.copy(src, dst)\n",
        "\n",
        "else:\n",
        "    print(\"Папка IrisID уже существует в директории Google Colab.\")"
      ],
      "metadata": {
        "id": "sTlpoXL5_XMd"
      },
      "execution_count": null,
      "outputs": []
    },
    {
      "cell_type": "markdown",
      "source": [
        "**Проверка наличия новых архивов в папке IrisID в директории Google Colab.**"
      ],
      "metadata": {
        "id": "olrTIlZrM20K"
      }
    },
    {
      "cell_type": "code",
      "source": [
        "archives = [f for f in os.listdir(drive_folder_path) if f.endswith('.zip')]\n",
        "\n",
        "if len(archives) == 0:\n",
        "    print(\"Архивы отсутствуют в папке IrisID на Google Drive.\")\n",
        "else:\n",
        "    print(\"Найдены следующие архивы в папке IrisID на Google Drive:\")\n",
        "    print('\\n'.join(archives))\n",
        "\n",
        "# Путь к файлу, в котором будет храниться список предыдущих архивов\n",
        "# (с момента последнего пополенения папки IrisID на Google Drive)\n",
        "previous_archives_file = '/content/previous_archives.txt'\n",
        "\n",
        "# Проверка наличия предыдущего списка архивов\n",
        "if os.path.exists(previous_archives_file):\n",
        "    # Загрузка предыдущего списка архивов\n",
        "    with open(previous_archives_file, 'r') as file:\n",
        "        previous_archives = file.read().splitlines()\n",
        "else:\n",
        "    previous_archives = []\n",
        "\n",
        "# Проверка наличия новых архивов и отображение их в виде списка\n",
        "new_archives = [archive for archive in archives if archive not in previous_archives]\n",
        "\n",
        "print(\"Среди них новых архивов:\", end=\" \")\n",
        "if len(new_archives) == 0:\n",
        "    print(\"нет.\")\n",
        "else:\n",
        "    print(f\"{len(new_archives)}\")\n",
        "    print('\\n'.join(new_archives))\n",
        "\n",
        "# Объединение текущего списка архивов с предыдущими\n",
        "updated_archives = previous_archives + archives\n",
        "\n",
        "# Сохранение обновлённого списка архивов\n",
        "with open(previous_archives_file, 'w') as file:\n",
        "    file.write('\\n'.join(updated_archives))"
      ],
      "metadata": {
        "id": "L4LWteCoObMI"
      },
      "execution_count": null,
      "outputs": []
    },
    {
      "cell_type": "markdown",
      "source": [
        "**Распаковка новых архивов и сортировка изображений по папкам классов.**"
      ],
      "metadata": {
        "id": "11CVCkAKgd7L"
      }
    },
    {
      "cell_type": "markdown",
      "source": [
        "Новые архивы из папки IrisID на Google Drive извлекаются с помощью функции extract_archives и размещаются в папку IDs в директории Google Colab. Код проверяет наличие папки с именем архива внутри папки IDs перед извлечением. Если папка уже существует, архив пропускается. "
      ],
      "metadata": {
        "id": "uZD_LUyO7jcZ"
      }
    },
    {
      "cell_type": "code",
      "source": [
        "import zipfile\n",
        "import glob\n",
        "\n",
        "def extract_archives():\n",
        "    # Пути к папкам\n",
        "    ids_path = os.path.join(colab_folder_path, 'IDs')\n",
        "\n",
        "    # Распаковка архивов\n",
        "    archives = glob.glob(os.path.join(colab_folder_path, '*.zip'))\n",
        "    for archive in archives:\n",
        "        archive_name = os.path.splitext(os.path.basename(archive))[0]\n",
        "        extraction_path = os.path.join(ids_path, archive_name)\n",
        "\n",
        "        # Проверка наличия папки с именем архива внутри папки IDs\n",
        "        if not os.path.exists(extraction_path):\n",
        "            with zipfile.ZipFile(archive, 'r') as zip_ref:\n",
        "                # Получение списка файлов в архиве\n",
        "                file_list = zip_ref.namelist()\n",
        "\n",
        "                # Проверка наличия основной директории в архиве\n",
        "                has_main_directory = False\n",
        "                for file in file_list:\n",
        "                    if '/' in file:\n",
        "                        has_main_directory = True\n",
        "                        break\n",
        "\n",
        "                # Если основная директория отсутствует, создаём папку с названием архива внутри IDs\n",
        "                if not has_main_directory:\n",
        "                    extraction_path = os.path.join(ids_path, archive_name)\n",
        "                    os.makedirs(extraction_path)\n",
        "\n",
        "                # Извлечение файлов\n",
        "                zip_ref.extractall(extraction_path)\n",
        "            os.remove(archive)\n",
        "        else:\n",
        "            print(f\"Архив {archive_name} уже распакован. Удаляю архив...\")\n",
        "            os.remove(archive)"
      ],
      "metadata": {
        "id": "YbPxHhakHStn"
      },
      "execution_count": null,
      "outputs": []
    },
    {
      "cell_type": "markdown",
      "source": [
        "**Полная очистка папки IDs от содержимого, при необходимости.**"
      ],
      "metadata": {
        "id": "9JZ5ELBNIPkQ"
      }
    },
    {
      "cell_type": "markdown",
      "source": [
        "Этот код использует функцию shutil.rmtree() для удаления содержимого папки IDs. Затем функция os.makedirs() создаёт пустую папку IDs, чтобы была возможность начать с чистого листа при необходимости."
      ],
      "metadata": {
        "id": "pzRCkQmJItup"
      }
    },
    {
      "cell_type": "code",
      "source": [
        "import shutil\n",
        "\n",
        "def clear_ids_folder():\n",
        "      \n",
        "    # Удаление содержимого папки IDs\n",
        "    shutil.rmtree(colab_folder_path)\n",
        "    \n",
        "    # Пересоздание пустой папки IDs\n",
        "    os.makedirs(colab_folder_path)\n",
        "\n",
        "    extract_archives()\n",
        "\n",
        "# Вызов функции для очистки папки IDs\n",
        "clear_ids_folder()"
      ],
      "metadata": {
        "id": "IQc9wCQwIWVu"
      },
      "execution_count": null,
      "outputs": []
    },
    {
      "cell_type": "markdown",
      "source": [
        "## **II. Обработка изображений.**"
      ],
      "metadata": {
        "id": "MSeH2LBcenMk"
      }
    },
    {
      "cell_type": "markdown",
      "source": [
        "### **Аугментация изображений.**"
      ],
      "metadata": {
        "id": "BdSnGRFk2bLE"
      }
    },
    {
      "cell_type": "markdown",
      "source": [
        "### **Перемешивание и разделение обновлённого датасета на train и test выборки.**"
      ],
      "metadata": {
        "id": "p--baLbOgd_f"
      }
    },
    {
      "cell_type": "markdown",
      "source": [
        "# **ДОПОЛНИТЕЛЬНО: автоматическое повторение этапов I и II.**"
      ],
      "metadata": {
        "id": "9Wc5RWPUY73S"
      }
    },
    {
      "cell_type": "markdown",
      "source": [
        "Проверка наличия новых датасетов в папке IrisID на Google Drive, и, при обнаружении, - добавление их в директорию Google Colab, аугментация и перераспределение в train и test выборки."
      ],
      "metadata": {
        "id": "0DmPz-RRuRJ2"
      }
    },
    {
      "cell_type": "markdown",
      "source": [
        "Подключение к Google Drive."
      ],
      "metadata": {
        "id": "GndZMCkvZsac"
      }
    },
    {
      "cell_type": "code",
      "source": [
        "#@title\n",
        "from google.colab import drive\n",
        "drive.mount('/content/drive')"
      ],
      "metadata": {
        "id": "n71Va02xNNnH",
        "cellView": "form"
      },
      "execution_count": null,
      "outputs": []
    },
    {
      "cell_type": "markdown",
      "source": [
        "Функция process_new_archives() содержит все шаги для обработки новых архивов и выполнения всех последующих действий."
      ],
      "metadata": {
        "id": "phB9tO2yiOQ6"
      }
    },
    {
      "cell_type": "code",
      "source": [
        "#@title\n",
        "import shutil\n",
        "import os\n",
        "import zipfile\n",
        "import glob\n",
        "\n",
        "def process_new_archives():\n",
        "\n",
        "    # Шаг 1: Поиск новых архивов в папке IrisID на Google Drive\n",
        "\n",
        "    # Путь к папке на Google Drive, в которую будут загружаться новые данные\n",
        "    drive_folder_path = '/content/drive/MyDrive/IrisID'\n",
        "\n",
        "    # Путь к папке в директории Google Colab\n",
        "    colab_folder_path = '/content/IrisID'\n",
        "\n",
        "    if not os.path.exists(colab_folder_path):\n",
        "        # Копирование файлов из Google Drive в Google Colab\n",
        "        os.makedirs(colab_folder_path)\n",
        "        \n",
        "        # Копирование файлов из Google Drive в Google Colab\n",
        "    for file_name in os.listdir(drive_folder_path):\n",
        "        src = os.path.join(drive_folder_path, file_name)\n",
        "        dst = os.path.join(colab_folder_path, file_name)\n",
        "        shutil.copy(src, dst)\n",
        "\n",
        "    else:\n",
        "        print(\"Папка IrisID уже существует в директории Google Colab.\")\n",
        "\n",
        "    # Шаг 2: Распаковка архивов в папку IDs\n",
        "\n",
        "    archives = [f for f in os.listdir(drive_folder_path) if f.endswith('.zip')]\n",
        "\n",
        "    if len(archives) == 0:\n",
        "        print(\"Архивы отсутствуют в папке IrisID на Google Drive.\")\n",
        "    else:\n",
        "        print(\"Найдены следующие архивы в папке IrisID на Google Drive:\")\n",
        "        print('\\n'.join(archives))\n",
        "\n",
        "    # Путь к файлу, в котором будет храниться список предыдущих архивов\n",
        "    # (с момента последнего пополенения папки IrisID на Google Drive)\n",
        "    previous_archives_file = '/content/previous_archives.txt'\n",
        "\n",
        "    # Проверка наличия предыдущего списка архивов\n",
        "    if os.path.exists(previous_archives_file):\n",
        "        # Загрузка предыдущего списка архивов\n",
        "        with open(previous_archives_file, 'r') as file:\n",
        "            previous_archives = file.read().splitlines()\n",
        "    else:\n",
        "        previous_archives = []\n",
        "\n",
        "    # Проверка наличия новых архивов и отображение их в виде списка\n",
        "    new_archives = [archive for archive in archives if archive not in previous_archives]\n",
        "\n",
        "    print(\"Среди них новых архивов:\", end=\" \")\n",
        "    if len(new_archives) == 0:\n",
        "        print(\"нет.\")\n",
        "    else:\n",
        "        print(f\"{len(new_archives)}\")\n",
        "        print('\\n'.join(new_archives))\n",
        "\n",
        "    # Объединение текущего списка архивов с предыдущими\n",
        "    updated_archives = previous_archives + archives\n",
        "\n",
        "    # Сохранение обновлённого списка архивов\n",
        "    with open(previous_archives_file, 'w') as file:\n",
        "        file.write('\\n'.join(updated_archives))\n",
        "\n",
        "    def extract_archives():\n",
        "        # Пути к папкам\n",
        "        ids_path = os.path.join(colab_folder_path, 'IDs')\n",
        "\n",
        "        # Распаковка архивов\n",
        "        archives = glob.glob(os.path.join(colab_folder_path, '*.zip'))\n",
        "        for archive in archives:\n",
        "            archive_name = os.path.splitext(os.path.basename(archive))[0]\n",
        "            extraction_path = os.path.join(ids_path, archive_name)\n",
        "\n",
        "            # Проверка наличия папки с именем архива внутри папки IDs\n",
        "            if not os.path.exists(extraction_path):\n",
        "                with zipfile.ZipFile(archive, 'r') as zip_ref:\n",
        "                    # Получение списка файлов в архиве\n",
        "                    file_list = zip_ref.namelist()\n",
        "\n",
        "                    # Проверка наличия основной директории в архиве\n",
        "                    has_main_directory = False\n",
        "                    for file in file_list:\n",
        "                        if '/' in file:\n",
        "                            has_main_directory = True\n",
        "                            break\n",
        "\n",
        "                    # Если основная директория отсутствует,\n",
        "                    # создаём папку с названием архива внутри IDs\n",
        "                    if not has_main_directory:\n",
        "                        extraction_path = os.path.join(ids_path, archive_name)\n",
        "                        os.makedirs(extraction_path)\n",
        "\n",
        "                    # Извлечение файлов\n",
        "                    zip_ref.extractall(extraction_path)\n",
        "                os.remove(archive)\n",
        "            else:\n",
        "                print(f\"Архив {archive_name} уже распакован. Удаляю архив...\")\n",
        "                os.remove(archive)\n",
        "\n",
        "# Функция для полной очистки папки IDs от содержимого\n",
        "def clear_ids_folder():\n",
        "      \n",
        "    # Удаление содержимого папки IDs\n",
        "    shutil.rmtree(colab_folder_path)\n",
        "    \n",
        "    # Пересоздание пустой папки IDs\n",
        "    os.makedirs(colab_folder_path)\n",
        "\n",
        "    extract_archives()\n",
        "\n",
        "    # Шаг 3: Аугментация новых датасетов\n",
        "\n",
        "    # Шаг 4: Разделение аугментированных датасетов на выборки\n"
      ],
      "metadata": {
        "id": "ATfjpitTgilB",
        "cellView": "form"
      },
      "execution_count": null,
      "outputs": []
    },
    {
      "cell_type": "markdown",
      "source": [
        "В ячейке ниже, где вызывается функция process_new_archives(), она будет выполнять все шаги автоматически."
      ],
      "metadata": {
        "id": "mTrLHjbZiSf1"
      }
    },
    {
      "cell_type": "code",
      "source": [
        "# Вызов функции для обработки новых архивов и выполнения всех шагов\n",
        "process_new_archives()"
      ],
      "metadata": {
        "id": "rQq_zSCLht5V",
        "colab": {
          "base_uri": "https://localhost:8080/"
        },
        "outputId": "311c2090-5db5-4cc9-a709-1c6b3bb91bfa"
      },
      "execution_count": null,
      "outputs": [
        {
          "output_type": "stream",
          "name": "stdout",
          "text": [
            "Папка IrisID уже существует в директории Google Colab.\n",
            "Найдены следующие архивы в папке IrisID на Google Drive:\n",
            "iris1_8.zip\n",
            "iris25_32.zip\n",
            "iris9_16.zip\n",
            "iris17_24.zip\n",
            "Среди них новых архивов: 4\n",
            "iris1_8.zip\n",
            "iris25_32.zip\n",
            "iris9_16.zip\n",
            "iris17_24.zip\n"
          ]
        }
      ]
    },
    {
      "cell_type": "markdown",
      "source": [
        "Всё содержимое папки IDs можно очистить, если была допущена какая-либо ошибка..."
      ],
      "metadata": {
        "id": "6XFCOJWOiWc4"
      }
    },
    {
      "cell_type": "code",
      "source": [
        "# Вызов функции для очистки папки IDs\n",
        "clear_ids_folder()"
      ],
      "metadata": {
        "id": "V76-Jm8qoAGT"
      },
      "execution_count": null,
      "outputs": []
    },
    {
      "cell_type": "markdown",
      "source": [
        "... И проделать этапы I-II заново."
      ],
      "metadata": {
        "id": "zWlmg8sjoDY3"
      }
    }
  ]
}