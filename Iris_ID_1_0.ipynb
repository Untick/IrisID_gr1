{
  "nbformat": 4,
  "nbformat_minor": 0,
  "metadata": {
    "colab": {
      "provenance": [],
      "authorship_tag": "ABX9TyOXJCPlsnEMuMjcJZqkLDxv",
      "include_colab_link": true
    },
    "kernelspec": {
      "name": "python3",
      "display_name": "Python 3"
    },
    "language_info": {
      "name": "python"
    },
    "gpuClass": "standard"
  },
  "cells": [
    {
      "cell_type": "markdown",
      "metadata": {
        "id": "view-in-github",
        "colab_type": "text"
      },
      "source": [
        "<a href=\"https://colab.research.google.com/github/Untick/IrisID_gr1/blob/Daria-Petrova-folder/Iris_ID_1_0.ipynb\" target=\"_parent\"><img src=\"https://colab.research.google.com/assets/colab-badge.svg\" alt=\"Open In Colab\"/></a>"
      ]
    },
    {
      "cell_type": "markdown",
      "source": [
        "**Загрузка датасета**"
      ],
      "metadata": {
        "id": "i3rM9gb-ZCAB"
      }
    },
    {
      "cell_type": "code",
      "execution_count": 1,
      "metadata": {
        "id": "bQmQjEIhH-YV"
      },
      "outputs": [],
      "source": [
        "import gdown\n",
        "import os"
      ]
    },
    {
      "cell_type": "code",
      "source": [
        "!gdown --id 1WSQkBfaJAC65u2RHkuDNT4HYovtq9lNf\n",
        "!unzip -qo Iris_ID.zip -d /content/IDs/"
      ],
      "metadata": {
        "colab": {
          "base_uri": "https://localhost:8080/"
        },
        "id": "3jPHWBOjIHVW",
        "outputId": "fbdbc330-d7a7-4c87-8920-e2392e7decf2"
      },
      "execution_count": 2,
      "outputs": [
        {
          "output_type": "stream",
          "name": "stdout",
          "text": [
            "/usr/local/lib/python3.10/dist-packages/gdown/cli.py:121: FutureWarning: Option `--id` was deprecated in version 4.3.1 and will be removed in 5.0. You don't need to pass it anymore to use a file ID.\n",
            "  warnings.warn(\n",
            "Downloading...\n",
            "From: https://drive.google.com/uc?id=1WSQkBfaJAC65u2RHkuDNT4HYovtq9lNf\n",
            "To: /content/Iris_ID.zip\n",
            "100% 179M/179M [00:02<00:00, 65.5MB/s]\n"
          ]
        }
      ]
    },
    {
      "cell_type": "code",
      "source": [
        "!ls /content/IDs/"
      ],
      "metadata": {
        "colab": {
          "base_uri": "https://localhost:8080/"
        },
        "id": "myXIQBnaIKxt",
        "outputId": "618479cc-576b-48e5-9451-1b7f6191c233"
      },
      "execution_count": 3,
      "outputs": [
        {
          "output_type": "stream",
          "name": "stdout",
          "text": [
            "iris17_24.zip  iris25_32.zip  iris41_48.zip  iris57_64.zip\n",
            "iris1_8.zip    iris33_40.zip  iris49_56.zip  iris9_16.zip\n"
          ]
        }
      ]
    },
    {
      "cell_type": "code",
      "source": [
        "# создаем список файлов в директории IDs\n",
        "file_list = os.listdir('/content/IDs')\n",
        "print(file_list)"
      ],
      "metadata": {
        "colab": {
          "base_uri": "https://localhost:8080/"
        },
        "id": "nzqH50HXLXZM",
        "outputId": "ac903058-a0a6-4294-dc70-f052f84b97d1"
      },
      "execution_count": 4,
      "outputs": [
        {
          "output_type": "stream",
          "name": "stdout",
          "text": [
            "['iris33_40.zip', 'iris1_8.zip', 'iris57_64.zip', 'iris9_16.zip', 'iris17_24.zip', 'iris41_48.zip', 'iris49_56.zip', 'iris25_32.zip']\n"
          ]
        }
      ]
    },
    {
      "cell_type": "code",
      "source": [
        "# проходимся по каждому файлу в списке\n",
        "for file_name in file_list:\n",
        "    \n",
        "    # проверяем, является ли файл архивом\n",
        "    if file_name.endswith('.zip'):\n",
        "        \n",
        "        # извлекаем имя архива без расширения\n",
        "        archive_name = os.path.splitext(file_name)[0]\n",
        "        \n",
        "        # создаем папку с именем архива, если её нет\n",
        "        if not os.path.exists(f'/content/IDs/{archive_name}'):\n",
        "            os.mkdir(f'/content/IDs/{archive_name}')\n",
        "        \n",
        "        # распаковываем архив в папку с именем архива\n",
        "        !unzip -qo /content/IDs/{file_name} -d /content/IDs/{archive_name}/"
      ],
      "metadata": {
        "id": "Nh8DUBEgLhXt"
      },
      "execution_count": 5,
      "outputs": []
    },
    {
      "cell_type": "code",
      "source": [
        "for file_name in os.listdir('/content/IDs'):\n",
        "    if file_name.endswith('.zip'):\n",
        "        file_path = os.path.join('/content/IDs', file_name)\n",
        "        os.remove(file_path)"
      ],
      "metadata": {
        "id": "lZ8Zp5ELNBd1"
      },
      "execution_count": 6,
      "outputs": []
    },
    {
      "cell_type": "code",
      "source": [
        "os.listdir('/content/IDs')"
      ],
      "metadata": {
        "colab": {
          "base_uri": "https://localhost:8080/"
        },
        "id": "tGHuKCLDOEY4",
        "outputId": "0a8be7a8-fbf3-48ea-e92f-de5024d3bf92"
      },
      "execution_count": 7,
      "outputs": [
        {
          "output_type": "execute_result",
          "data": {
            "text/plain": [
              "['iris1_8',\n",
              " 'iris49_56',\n",
              " 'iris25_32',\n",
              " 'iris41_48',\n",
              " 'iris57_64',\n",
              " 'iris17_24',\n",
              " 'iris33_40',\n",
              " 'iris9_16']"
            ]
          },
          "metadata": {},
          "execution_count": 7
        }
      ]
    },
    {
      "cell_type": "code",
      "source": [
        "!rm /content/Iris_ID.zip"
      ],
      "metadata": {
        "id": "oXwELWQOQU7_"
      },
      "execution_count": 8,
      "outputs": []
    },
    {
      "cell_type": "markdown",
      "source": [
        "**Классификация изображений на обучающую и тестовую выборки**"
      ],
      "metadata": {
        "id": "lsAVnjwmMAtY"
      }
    },
    {
      "cell_type": "code",
      "source": [
        "from sklearn.model_selection import train_test_split\n",
        "import shutil"
      ],
      "metadata": {
        "id": "18H8i0c0OMGf"
      },
      "execution_count": 9,
      "outputs": []
    },
    {
      "cell_type": "code",
      "source": [
        "# Путь к папке с изображениями\n",
        "path_to_images = '/content/IDs'\n",
        "\n",
        "# Список папок, каждая из которых содержит изображения одного класса\n",
        "class_folders = os.listdir(path_to_images)\n",
        "\n",
        "# Создаём папки для обучающей и тестовой выборок\n",
        "train_folder = os.path.join(path_to_images, 'train')\n",
        "test_folder = os.path.join(path_to_images, 'test')\n",
        "os.makedirs(train_folder, exist_ok=True)\n",
        "os.makedirs(test_folder, exist_ok=True)\n",
        "\n",
        "# Проходим по всем классам и разделяем изображения на обучающую и тестовую выборки\n",
        "for class_folder in class_folders:\n",
        "    images_path = os.path.join(path_to_images, class_folder)\n",
        "    images = os.listdir(images_path)\n",
        "    train_images, test_images = train_test_split(images, test_size=0.2, random_state=42)\n",
        "\n",
        "    # Создаём папки для текущего класса в обучающей и тестовой выборках\n",
        "    train_class_folder = os.path.join(train_folder, class_folder)\n",
        "    test_class_folder = os.path.join(test_folder, class_folder)\n",
        "    os.makedirs(train_class_folder, exist_ok=True)\n",
        "    os.makedirs(test_class_folder, exist_ok=True)\n",
        "\n",
        "    # Копируем изображения в соответствующие папки\n",
        "    for image in train_images:\n",
        "        src = os.path.join(images_path, image)\n",
        "        dst = os.path.join(train_class_folder, image)\n",
        "        shutil.copy(src, dst)\n",
        "\n",
        "    for image in test_images:\n",
        "        src = os.path.join(images_path, image)\n",
        "        dst = os.path.join(test_class_folder, image)\n",
        "        shutil.copy(src, dst)"
      ],
      "metadata": {
        "id": "jo1l6x2qVvbP"
      },
      "execution_count": 10,
      "outputs": []
    }
  ]
}