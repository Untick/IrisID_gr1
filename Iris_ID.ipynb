{
  "nbformat": 4,
  "nbformat_minor": 0,
  "metadata": {
    "colab": {
      "provenance": [],
      "authorship_tag": "ABX9TyObsbfYEWbvP+8TzVBDpFj1",
      "include_colab_link": true
    },
    "kernelspec": {
      "name": "python3",
      "display_name": "Python 3"
    },
    "language_info": {
      "name": "python"
    }
  },
  "cells": [
    {
      "cell_type": "markdown",
      "metadata": {
        "id": "view-in-github",
        "colab_type": "text"
      },
      "source": [
        "<a href=\"https://colab.research.google.com/github/Untick/IrisID_gr1/blob/Daria-Petrova-folder/Iris_ID.ipynb\" target=\"_parent\"><img src=\"https://colab.research.google.com/assets/colab-badge.svg\" alt=\"Open In Colab\"/></a>"
      ]
    },
    {
      "cell_type": "code",
      "execution_count": null,
      "metadata": {
        "id": "bQmQjEIhH-YV"
      },
      "outputs": [],
      "source": [
        "import gdown\n",
        "import os"
      ]
    },
    {
      "cell_type": "code",
      "source": [
        "!gdown --id 1WSQkBfaJAC65u2RHkuDNT4HYovtq9lNf\n",
        "!unzip -qo Iris_ID.zip -d /content/IDs/"
      ],
      "metadata": {
        "colab": {
          "base_uri": "https://localhost:8080/"
        },
        "id": "3jPHWBOjIHVW",
        "outputId": "24c15581-56f0-427e-befb-4e2f9f141373"
      },
      "execution_count": null,
      "outputs": [
        {
          "output_type": "stream",
          "name": "stdout",
          "text": [
            "/usr/local/lib/python3.9/dist-packages/gdown/cli.py:121: FutureWarning: Option `--id` was deprecated in version 4.3.1 and will be removed in 5.0. You don't need to pass it anymore to use a file ID.\n",
            "  warnings.warn(\n",
            "Downloading...\n",
            "From: https://drive.google.com/uc?id=1WSQkBfaJAC65u2RHkuDNT4HYovtq9lNf\n",
            "To: /content/Iris_ID.zip\n",
            "100% 179M/179M [00:04<00:00, 40.6MB/s]\n"
          ]
        }
      ]
    },
    {
      "cell_type": "code",
      "source": [
        "!ls /content/IDs/"
      ],
      "metadata": {
        "colab": {
          "base_uri": "https://localhost:8080/"
        },
        "id": "myXIQBnaIKxt",
        "outputId": "d34d9a8a-30a9-409c-c0ea-ce6e9284d508"
      },
      "execution_count": null,
      "outputs": [
        {
          "output_type": "stream",
          "name": "stdout",
          "text": [
            "iris17_24.zip  iris25_32.zip  iris41_48.zip  iris57_64.zip\n",
            "iris1_8.zip    iris33_40.zip  iris49_56.zip  iris9_16.zip\n"
          ]
        }
      ]
    },
    {
      "cell_type": "code",
      "source": [
        "# создаем список файлов в директории IDs\n",
        "file_list = os.listdir('/content/IDs')\n",
        "print(file_list)"
      ],
      "metadata": {
        "colab": {
          "base_uri": "https://localhost:8080/"
        },
        "id": "nzqH50HXLXZM",
        "outputId": "449486b4-4b19-4392-97d0-3846ce1a3bd6"
      },
      "execution_count": null,
      "outputs": [
        {
          "output_type": "stream",
          "name": "stdout",
          "text": [
            "['iris57_64.zip', 'iris49_56.zip', 'iris25_32.zip', 'iris41_48.zip', 'iris33_40.zip', 'iris1_8.zip', 'iris9_16.zip', 'iris17_24.zip']\n"
          ]
        }
      ]
    },
    {
      "cell_type": "code",
      "source": [
        "# проходимся по каждому файлу в списке\n",
        "for file_name in file_list:\n",
        "    \n",
        "    # проверяем, является ли файл архивом\n",
        "    if file_name.endswith('.zip'):\n",
        "        \n",
        "        # извлекаем имя архива без расширения\n",
        "        archive_name = os.path.splitext(file_name)[0]\n",
        "        \n",
        "        # создаем папку с именем архива, если ее нет\n",
        "        if not os.path.exists(f'/content/IDs/{archive_name}'):\n",
        "            os.mkdir(f'/content/IDs/{archive_name}')\n",
        "        \n",
        "        # распаковываем архив в папку с именем архива\n",
        "        !unzip -qo /content/IDs/{file_name} -d /content/IDs/{archive_name}/"
      ],
      "metadata": {
        "id": "Nh8DUBEgLhXt"
      },
      "execution_count": null,
      "outputs": []
    },
    {
      "cell_type": "code",
      "source": [
        "for file_name in os.listdir('/content/IDs'):\n",
        "    if file_name.endswith('.zip'):\n",
        "        file_path = os.path.join('/content/IDs', file_name)\n",
        "        os.remove(file_path)"
      ],
      "metadata": {
        "id": "lZ8Zp5ELNBd1"
      },
      "execution_count": null,
      "outputs": []
    },
    {
      "cell_type": "code",
      "source": [
        "os.listdir('/content/IDs')"
      ],
      "metadata": {
        "colab": {
          "base_uri": "https://localhost:8080/"
        },
        "id": "tGHuKCLDOEY4",
        "outputId": "5e42d714-b249-4881-b5bc-6ed00ce6fab3"
      },
      "execution_count": null,
      "outputs": [
        {
          "output_type": "execute_result",
          "data": {
            "text/plain": [
              "['iris1_8',\n",
              " 'iris57_64',\n",
              " 'iris25_32',\n",
              " 'iris41_48',\n",
              " 'iris17_24',\n",
              " 'iris33_40',\n",
              " 'iris49_56',\n",
              " 'iris9_16']"
            ]
          },
          "metadata": {},
          "execution_count": 8
        }
      ]
    },
    {
      "cell_type": "code",
      "source": [],
      "metadata": {
        "id": "18H8i0c0OMGf"
      },
      "execution_count": null,
      "outputs": []
    }
  ]
}